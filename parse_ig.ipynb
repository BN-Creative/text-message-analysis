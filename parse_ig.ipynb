{
 "cells": [
  {
   "cell_type": "markdown",
   "metadata": {},
   "source": [
    "## Parsing"
   ]
  },
  {
   "cell_type": "code",
   "execution_count": 54,
   "metadata": {},
   "outputs": [],
   "source": [
    "''' Combine all the ig_dms files into one file '''\n",
    "\n",
    "import json\n",
    "\n",
    "# List of file names to be opened\n",
    "file_names = ['data/ig_dms_1.json', 'data/ig_dms_2.json', 'data/ig_dms_3.json']\n",
    "\n",
    "# Initialize an empty list to hold the messages from all files\n",
    "all_messages = []\n",
    "\n",
    "# Loop through each file\n",
    "for file_name in file_names:\n",
    "    with open(file_name, 'r') as file:\n",
    "        data = json.load(file)\n",
    "        # Append the messages from the current file to the all_messages list\n",
    "        all_messages.extend(data.get('messages', []))\n",
    "\n",
    "# Write the combined messages to a new file\n",
    "with open('data/ig_dms_combined.json', 'w') as file:\n",
    "    json.dump({\"messages\": all_messages}, file)"
   ]
  },
  {
   "cell_type": "code",
   "execution_count": 55,
   "metadata": {},
   "outputs": [],
   "source": [
    "''' Parse the data and write to a CSV file '''\n",
    "\n",
    "import json\n",
    "import csv\n",
    "\n",
    "# Read the JSON file\n",
    "with open('data/ig_dms_combined.json', 'r') as file:\n",
    "    data = json.load(file)\n",
    "\n",
    "# Extract the required fields and write to CSV\n",
    "with open('data/parsed_ig_dms.csv', 'w', newline='', encoding='utf-8') as file:\n",
    "    writer = csv.writer(file)\n",
    "    writer.writerow(['sender_name', 'timestamp_ms', 'content', 'link', 'reaction', 'actor'])  # Write header row\n",
    "\n",
    "    for message in data['messages']:  # Iterate over data['messages']\n",
    "        sender_name = message['sender_name']\n",
    "        timestamp_ms = message['timestamp_ms']\n",
    "\n",
    "        # Extract content if it exists\n",
    "        content = message.get('content')\n",
    "\n",
    "        # Extract link if it exists\n",
    "        link = message.get('share', {}).get('link')\n",
    "\n",
    "        # Extract reactions if they exist\n",
    "        reaction = message.get('reactions', [{}])[0]\n",
    "        reaction_type = reaction.get('reaction')\n",
    "        actor = reaction.get('actor')\n",
    "\n",
    "        writer.writerow([sender_name, timestamp_ms, content, link, reaction_type, actor])"
   ]
  }
 ],
 "metadata": {
  "kernelspec": {
   "display_name": "base",
   "language": "python",
   "name": "python3"
  },
  "language_info": {
   "codemirror_mode": {
    "name": "ipython",
    "version": 3
   },
   "file_extension": ".py",
   "mimetype": "text/x-python",
   "name": "python",
   "nbconvert_exporter": "python",
   "pygments_lexer": "ipython3",
   "version": "3.10.9"
  }
 },
 "nbformat": 4,
 "nbformat_minor": 2
}
