{
 "cells": [
  {
   "cell_type": "markdown",
   "metadata": {},
   "source": [
    "## Parsing"
   ]
  },
  {
   "cell_type": "code",
   "execution_count": 1,
   "metadata": {},
   "outputs": [],
   "source": [
    "''' Combine all the ig_dms files into one file '''\n",
    "\n",
    "import json\n",
    "\n",
    "# List of file names to be opened\n",
    "file_names = ['data/ig_dms_1.json', 'data/ig_dms_2.json', 'data/ig_dms_3.json']\n",
    "\n",
    "# Initialize an empty list to hold the messages from all files\n",
    "all_messages = []\n",
    "\n",
    "# Loop through each file\n",
    "for file_name in file_names:\n",
    "    with open(file_name, 'r') as file:\n",
    "        data = json.load(file)\n",
    "        # Append the messages from the current file to the all_messages list\n",
    "        all_messages.extend(data.get('messages', []))\n",
    "\n",
    "# Write the combined messages to a new file\n",
    "with open('data/ig_dms_combined.json', 'w') as file:\n",
    "    json.dump({\"messages\": all_messages}, file)"
   ]
  },
  {
   "cell_type": "code",
   "execution_count": 2,
   "metadata": {},
   "outputs": [],
   "source": [
    "''' Parse the data and write to a CSV file '''\n",
    "\n",
    "import json\n",
    "import csv\n",
    "\n",
    "# Read the JSON file\n",
    "with open('data/ig_dms_combined.json', 'r') as file:\n",
    "    data = json.load(file)\n",
    "\n",
    "# Extract the required fields and write to CSV\n",
    "with open('parsed_data/parsed_ig_dms.csv', 'w', newline='', encoding='utf-8') as file:\n",
    "    writer = csv.writer(file)\n",
    "    writer.writerow(['sender_name', 'timestamp_ms', 'content', 'share_link', 'share_text', 'share_content_owner', 'reaction', 'call_duration'])  # Write header row\n",
    "\n",
    "    for message in data['messages']:  # Iterate over data['messages']\n",
    "        sender_name = message['sender_name']\n",
    "        timestamp_ms = message['timestamp_ms']\n",
    "\n",
    "        # Extract content if it exists\n",
    "        content = message.get('content')\n",
    "        content = content.encode('latin-1').decode('utf-8') if content else None\n",
    "\n",
    "        # Extract link if it exists\n",
    "        share_link = message.get('share', {}).get('link')\n",
    "        share_text = message.get('share', {}).get('share_text')\n",
    "        share_text = share_text.encode('latin-1').decode('utf-8') if share_text else None\n",
    "        share_content_owner = message.get('share', {}).get('original_content_owner')\n",
    "\n",
    "        # Extract reactions if they exist\n",
    "        reaction = message.get('reactions', [{}])[0].get('reaction')\n",
    "        reaction = reaction.encode('latin-1').decode('utf-8') if reaction else None\n",
    "\n",
    "        call_duration = message.get('call_duration')\n",
    "\n",
    "        writer.writerow([sender_name, timestamp_ms, content, share_link, share_text, share_content_owner, reaction, call_duration])"
   ]
  }
 ],
 "metadata": {
  "kernelspec": {
   "display_name": "base",
   "language": "python",
   "name": "python3"
  },
  "language_info": {
   "codemirror_mode": {
    "name": "ipython",
    "version": 3
   },
   "file_extension": ".py",
   "mimetype": "text/x-python",
   "name": "python",
   "nbconvert_exporter": "python",
   "pygments_lexer": "ipython3",
   "version": "3.10.5"
  }
 },
 "nbformat": 4,
 "nbformat_minor": 2
}
