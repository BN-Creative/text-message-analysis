{
 "cells": [
  {
   "cell_type": "markdown",
   "metadata": {},
   "source": [
    "# Cleaning"
   ]
  },
  {
   "cell_type": "code",
   "execution_count": 52,
   "metadata": {},
   "outputs": [],
   "source": [
    "import pandas as pd\n",
    "import re"
   ]
  },
  {
   "cell_type": "markdown",
   "metadata": {},
   "source": [
    "## Categorize Instagram Messages"
   ]
  },
  {
   "cell_type": "code",
   "execution_count": 53,
   "metadata": {},
   "outputs": [],
   "source": [
    "IG_LOG = 'parsed_data/parsed_ig_dms.csv'\n",
    "\n",
    "ig_df = pd.read_csv(IG_LOG)"
   ]
  },
  {
   "cell_type": "code",
   "execution_count": 54,
   "metadata": {},
   "outputs": [],
   "source": [
    "# filter out start call messages\n",
    "ig_df[ig_df['content'].apply(lambda x: 'started an audio call' not in x if isinstance(x, str) else True)]\n",
    "\n",
    "# make a separate df for calls\n",
    "ig_calls = ig_df[ig_df['call_duration'].notna()]\n",
    "ig_df = ig_df[ig_df['call_duration'].isna()]"
   ]
  },
  {
   "cell_type": "code",
   "execution_count": 55,
   "metadata": {},
   "outputs": [],
   "source": [
    "# make a separate df for shared content\n",
    "ig_media = ig_df[ig_df['content'].apply(lambda x: 'sent an attachment.' in x if isinstance(x, str) else False)]\n",
    "ig_df = ig_df[ig_df['content'].apply(lambda x: 'sent an attachment.' not in x if isinstance(x, str) else True)]\n",
    "\n",
    "ig_media = pd.concat([ig_media, ig_df[ig_df['share_link'].notna()]], ignore_index=True)\n",
    "ig_df = ig_df[ig_df['share_link'].isna()]\n",
    "\n",
    "ig_media = pd.concat([ig_media, ig_df[ig_df['share_content_owner'].notna()]], ignore_index=True)\n",
    "ig_df = ig_df[ig_df['share_content_owner'].isna()]"
   ]
  },
  {
   "cell_type": "code",
   "execution_count": 56,
   "metadata": {},
   "outputs": [],
   "source": [
    "ig_msgs = ig_df[['sender_name', 'timestamp_ms', 'content', 'reaction']]\n",
    "ig_calls = ig_calls[['sender_name', 'timestamp_ms', 'content', 'call_duration']]\n",
    "ig_media = ig_media[['sender_name', 'timestamp_ms', 'content', 'share_link', 'share_text', 'share_content_owner', 'reaction']]"
   ]
  },
  {
   "cell_type": "code",
   "execution_count": 57,
   "metadata": {},
   "outputs": [],
   "source": [
    "ig_msgs.to_csv('intermediate_data/ig_msgs.csv', index=False)\n",
    "ig_calls.to_csv('intermediate_data/ig_calls.csv', index=False)\n",
    "ig_media.to_csv('intermediate_data/ig_media.csv', index=False)"
   ]
  },
  {
   "cell_type": "markdown",
   "metadata": {},
   "source": [
    "## Categorize SMS messages"
   ]
  },
  {
   "cell_type": "code",
   "execution_count": 58,
   "metadata": {},
   "outputs": [],
   "source": [
    "SMS_LOG = 'parsed_data/sms_conversation.csv'\n",
    "\n",
    "sms_df = pd.read_csv(SMS_LOG)"
   ]
  },
  {
   "cell_type": "code",
   "execution_count": 59,
   "metadata": {},
   "outputs": [],
   "source": [
    "# filter out google reactions\n",
    "reactions_df = sms_df[sms_df['body'].apply(lambda x: '\\u200A' in x)]\n",
    "sms_df = sms_df[sms_df['body'].apply(lambda x: '\\u200A' not in x)]"
   ]
  },
  {
   "cell_type": "code",
   "execution_count": 60,
   "metadata": {},
   "outputs": [],
   "source": [
    "# filter out iMessage reactions\n",
    "verbs = ['Loved', 'Liked', 'Disliked', 'Laughed at', 'Emphasized', 'Questioned']\n",
    "message_pattern_format = '{verb} “(.*)”'\n",
    "media_pattern_format = '{verb} an (.*)'\n",
    "\n",
    "for verb in verbs:\n",
    "    message_pattern = message_pattern_format.format(verb=verb)\n",
    "    media_pattern = media_pattern_format.format(verb=verb)\n",
    "    reactions_df = pd.concat([reactions_df, sms_df[sms_df['body'].apply(lambda x: bool(re.search(message_pattern, x)))]], ignore_index=True)\n",
    "    reactions_df = pd.concat([reactions_df, sms_df[sms_df['body'].apply(lambda x: bool(re.search(media_pattern, x)))]], ignore_index=True)\n",
    "    sms_df = sms_df[sms_df['body'].apply(lambda x: not bool(re.search(message_pattern, x)))]\n",
    "    sms_df = sms_df[sms_df['body'].apply(lambda x: not bool(re.search(media_pattern, x)))]"
   ]
  },
  {
   "cell_type": "code",
   "execution_count": 61,
   "metadata": {},
   "outputs": [],
   "source": [
    "reactions_df.to_csv('intermediate_data/sms_reactions.csv', index=False)\n",
    "sms_df.to_csv('intermediate_data/sms_msgs.csv', index=False)"
   ]
  }
 ],
 "metadata": {
  "kernelspec": {
   "display_name": "base",
   "language": "python",
   "name": "python3"
  },
  "language_info": {
   "codemirror_mode": {
    "name": "ipython",
    "version": 3
   },
   "file_extension": ".py",
   "mimetype": "text/x-python",
   "name": "python",
   "nbconvert_exporter": "python",
   "pygments_lexer": "ipython3",
   "version": "3.10.5"
  }
 },
 "nbformat": 4,
 "nbformat_minor": 2
}
