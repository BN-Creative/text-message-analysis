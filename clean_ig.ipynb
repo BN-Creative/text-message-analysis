{
 "cells": [
  {
   "cell_type": "markdown",
   "metadata": {},
   "source": [
    "## Cleaning"
   ]
  },
  {
   "cell_type": "code",
   "execution_count": 1,
   "metadata": {},
   "outputs": [
    {
     "name": "stderr",
     "output_type": "stream",
     "text": [
      "/var/folders/8k/cwqdxf015ds_r60lk_3g6vv40000gn/T/ipykernel_46954/3377192495.py:1: DeprecationWarning: \n",
      "Pyarrow will become a required dependency of pandas in the next major release of pandas (pandas 3.0),\n",
      "(to allow more performant data types, such as the Arrow string type, and better interoperability with other libraries)\n",
      "but was not found to be installed on your system.\n",
      "If this would cause problems for you,\n",
      "please provide us feedback at https://github.com/pandas-dev/pandas/issues/54466\n",
      "        \n",
      "  import pandas as pd\n"
     ]
    }
   ],
   "source": [
    "import pandas as pd\n",
    "IG_LOG = 'parsed_data/parsed_ig_dms.csv'\n",
    "\n",
    "ig_df = pd.read_csv(IG_LOG)"
   ]
  },
  {
   "cell_type": "code",
   "execution_count": 2,
   "metadata": {},
   "outputs": [],
   "source": [
    "# filter out start call messages\n",
    "ig_df[ig_df['content'].apply(lambda x: 'started an audio call' not in x if isinstance(x, str) else True)]\n",
    "\n",
    "# make a separate df for calls\n",
    "ig_calls = ig_df[ig_df['call_duration'].notna()]\n",
    "ig_df = ig_df[ig_df['call_duration'].isna()]"
   ]
  },
  {
   "cell_type": "code",
   "execution_count": 3,
   "metadata": {},
   "outputs": [],
   "source": [
    "# make a separate df for shared content\n",
    "ig_media = ig_df[ig_df['content'].apply(lambda x: 'sent an attachment.' in x if isinstance(x, str) else False)]\n",
    "ig_df = ig_df[ig_df['content'].apply(lambda x: 'sent an attachment.' not in x if isinstance(x, str) else True)]\n",
    "\n",
    "ig_media = pd.concat([ig_media, ig_df[ig_df['share_link'].notna()]], ignore_index=True)\n",
    "ig_df = ig_df[ig_df['share_link'].isna()]\n",
    "\n",
    "ig_media = pd.concat([ig_media, ig_df[ig_df['share_content_owner'].notna()]], ignore_index=True)\n",
    "ig_df = ig_df[ig_df['share_content_owner'].isna()]"
   ]
  },
  {
   "cell_type": "code",
   "execution_count": 4,
   "metadata": {},
   "outputs": [],
   "source": [
    "ig_msgs = ig_df[['sender_name', 'timestamp_ms', 'content', 'reaction']]\n",
    "ig_calls = ig_calls[['sender_name', 'timestamp_ms', 'content', 'call_duration']]\n",
    "ig_media = ig_media[['sender_name', 'timestamp_ms', 'content', 'share_link', 'share_text', 'share_content_owner', 'reaction']]"
   ]
  },
  {
   "cell_type": "code",
   "execution_count": 5,
   "metadata": {},
   "outputs": [],
   "source": [
    "ig_msgs.to_csv('intermediate_data/ig_msgs.csv', index=False)\n",
    "ig_calls.to_csv('intermediate_data/ig_calls.csv', index=False)\n",
    "ig_media.to_csv('intermediate_data/ig_media.csv', index=False)"
   ]
  }
 ],
 "metadata": {
  "kernelspec": {
   "display_name": "base",
   "language": "python",
   "name": "python3"
  },
  "language_info": {
   "codemirror_mode": {
    "name": "ipython",
    "version": 3
   },
   "file_extension": ".py",
   "mimetype": "text/x-python",
   "name": "python",
   "nbconvert_exporter": "python",
   "pygments_lexer": "ipython3",
   "version": "3.10.5"
  }
 },
 "nbformat": 4,
 "nbformat_minor": 2
}
