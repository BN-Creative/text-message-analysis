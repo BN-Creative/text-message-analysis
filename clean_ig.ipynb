{
 "cells": [
  {
   "cell_type": "markdown",
   "metadata": {},
   "source": [
    "## Cleaning"
   ]
  },
  {
   "cell_type": "code",
   "execution_count": 2,
   "metadata": {},
   "outputs": [],
   "source": [
    "''' Clean the data and write to a CSV file'''\n",
    "\n",
    "import csv\n",
    "\n",
    "# Open the original CSV file and the new CSV file\n",
    "with open('parsed_data/parsed_ig_dms.csv', 'r', newline='', encoding='utf-8') as input_file, \\\n",
    "     open('intermediate_data/cleaned_ig_dms.csv', 'w', newline='', encoding='utf-8') as output_file:\n",
    "\n",
    "    reader = csv.reader(input_file)\n",
    "    writer = csv.writer(output_file)\n",
    "\n",
    "    # Write the header row to the new CSV file\n",
    "    headers = next(reader)\n",
    "    writer.writerow(headers)\n",
    "\n",
    "    # Iterate over the rows in the original CSV file\n",
    "    for row in reader:\n",
    "        # If the content contains \"sent an attachment\", replace the content with None\n",
    "        if \"sent an attachment\" in row[2]:\n",
    "            row[2] = None\n",
    "        writer.writerow(row)"
   ]
  }
 ],
 "metadata": {
  "kernelspec": {
   "display_name": "base",
   "language": "python",
   "name": "python3"
  },
  "language_info": {
   "codemirror_mode": {
    "name": "ipython",
    "version": 3
   },
   "file_extension": ".py",
   "mimetype": "text/x-python",
   "name": "python",
   "nbconvert_exporter": "python",
   "pygments_lexer": "ipython3",
   "version": "3.10.9"
  }
 },
 "nbformat": 4,
 "nbformat_minor": 2
}
